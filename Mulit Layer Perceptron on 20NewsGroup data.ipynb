{
  "nbformat": 4,
  "nbformat_minor": 0,
  "metadata": {
    "colab": {
      "name": "MLP Phase 1.ipynb",
      "version": "0.3.2",
      "views": {},
      "default_view": {},
      "provenance": [],
      "collapsed_sections": []
    }
  },
  "cells": [
    {
      "metadata": {
        "id": "NHljnJJwQEg2",
        "colab_type": "code",
        "colab": {
          "autoexec": {
            "startup": false,
            "wait_interval": 0
          }
        }
      },
      "source": [
        "from __future__ import print_function"
      ],
      "cell_type": "code",
      "execution_count": 0,
      "outputs": []
    },
    {
      "metadata": {
        "id": "z2s3Lx1TM0oy",
        "colab_type": "code",
        "colab": {
          "autoexec": {
            "startup": false,
            "wait_interval": 0
          }
        }
      },
      "source": [
        "import pandas as pd\n",
        "import numpy as np\n",
        "import tensorflow as tf\n",
        "from collections import Counter"
      ],
      "cell_type": "code",
      "execution_count": 0,
      "outputs": []
    },
    {
      "metadata": {
        "id": "gqPyZvafM1nF",
        "colab_type": "code",
        "colab": {
          "autoexec": {
            "startup": false,
            "wait_interval": 0
          }
        }
      },
      "source": [
        "from sklearn.datasets import fetch_20newsgroups"
      ],
      "cell_type": "code",
      "execution_count": 0,
      "outputs": []
    },
    {
      "metadata": {
        "id": "QQY2SeInM9K2",
        "colab_type": "text"
      },
      "source": [
        "The  [20 Newsgroups data](http://qwone.com/~jason/20Newsgroups/) set is a collection of approximately **20,000 newsgroup documents**, partitioned (nearly) evenly across **20 different newsgroups**.\n",
        "\n",
        "\n",
        "---\n",
        "\n",
        "\n",
        "Here for simplicity we are working with just** 3 news group** - *comp.graphics,sci.space,* and *rec.sport.baseball.*"
      ],
      "cell_type": "markdown"
    },
    {
      "metadata": {
        "id": "9iztClgFNMbW",
        "colab_type": "code",
        "colab": {
          "autoexec": {
            "startup": false,
            "wait_interval": 0
          },
          "output_extras": [
            {
              "item_id": 1
            }
          ],
          "base_uri": "https://localhost:8080/",
          "height": 34
        },
        "outputId": "aa2f2b1a-61d1-4669-cf99-394e9d04e2ac",
        "executionInfo": {
          "status": "ok",
          "timestamp": 1511838678577,
          "user_tz": -360,
          "elapsed": 15690,
          "user": {
            "displayName": "Tasnim Mohiuddin",
            "photoUrl": "//lh5.googleusercontent.com/-FoI6H1AJ-04/AAAAAAAAAAI/AAAAAAAAABw/Pugdbk5ljTg/s50-c-k-no/photo.jpg",
            "userId": "109559495152425718906"
          }
        }
      },
      "source": [
        "categories = [\"comp.graphics\",\"sci.space\",\"rec.sport.baseball\"]\n",
        "newsgroups_train = fetch_20newsgroups(subset='train', categories=categories)\n",
        "newsgroups_test = fetch_20newsgroups(subset='test', categories=categories)"
      ],
      "cell_type": "code",
      "execution_count": 4,
      "outputs": [
        {
          "output_type": "stream",
          "text": [
            "No handlers could be found for logger \"sklearn.datasets.twenty_newsgroups\"\n"
          ],
          "name": "stderr"
        }
      ]
    },
    {
      "metadata": {
        "id": "_XJ1E1SyN6dP",
        "colab_type": "code",
        "colab": {
          "autoexec": {
            "startup": false,
            "wait_interval": 0
          },
          "output_extras": [
            {
              "item_id": 1
            }
          ],
          "base_uri": "https://localhost:8080/",
          "height": 34
        },
        "outputId": "82dc2005-266d-412d-9688-6652406c0d66",
        "executionInfo": {
          "status": "ok",
          "timestamp": 1511838690821,
          "user_tz": -360,
          "elapsed": 1207,
          "user": {
            "displayName": "Tasnim Mohiuddin",
            "photoUrl": "//lh5.googleusercontent.com/-FoI6H1AJ-04/AAAAAAAAAAI/AAAAAAAAABw/Pugdbk5ljTg/s50-c-k-no/photo.jpg",
            "userId": "109559495152425718906"
          }
        }
      },
      "source": [
        "type(newsgroups_train.data)"
      ],
      "cell_type": "code",
      "execution_count": 5,
      "outputs": [
        {
          "output_type": "execute_result",
          "data": {
            "text/plain": [
              "list"
            ]
          },
          "metadata": {
            "tags": []
          },
          "execution_count": 5
        }
      ]
    },
    {
      "metadata": {
        "id": "Hkr9QPALO4sv",
        "colab_type": "code",
        "colab": {
          "autoexec": {
            "startup": false,
            "wait_interval": 0
          },
          "output_extras": [
            {
              "item_id": 1
            }
          ],
          "base_uri": "https://localhost:8080/",
          "height": 52
        },
        "outputId": "ae5e5f0e-52a8-4b79-e8dc-f2da2c0ebdc1",
        "executionInfo": {
          "status": "ok",
          "timestamp": 1511838692690,
          "user_tz": -360,
          "elapsed": 1176,
          "user": {
            "displayName": "Tasnim Mohiuddin",
            "photoUrl": "//lh5.googleusercontent.com/-FoI6H1AJ-04/AAAAAAAAAAI/AAAAAAAAABw/Pugdbk5ljTg/s50-c-k-no/photo.jpg",
            "userId": "109559495152425718906"
          }
        }
      },
      "source": [
        "print('total texts in train:',len(newsgroups_train.data))\n",
        "print('total texts in test:',len(newsgroups_test.data))"
      ],
      "cell_type": "code",
      "execution_count": 6,
      "outputs": [
        {
          "output_type": "stream",
          "text": [
            "total texts in train: 1774\n",
            "total texts in test: 1180\n"
          ],
          "name": "stdout"
        }
      ]
    },
    {
      "metadata": {
        "id": "mQY_RRHkPlfP",
        "colab_type": "code",
        "colab": {
          "autoexec": {
            "startup": false,
            "wait_interval": 0
          },
          "output_extras": [
            {
              "item_id": 1
            }
          ],
          "base_uri": "https://localhost:8080/",
          "height": 589
        },
        "outputId": "e02eeb8c-d4af-4cc8-a291-3bf2ec247e36",
        "executionInfo": {
          "status": "ok",
          "timestamp": 1511838695486,
          "user_tz": -360,
          "elapsed": 1183,
          "user": {
            "displayName": "Tasnim Mohiuddin",
            "photoUrl": "//lh5.googleusercontent.com/-FoI6H1AJ-04/AAAAAAAAAAI/AAAAAAAAABw/Pugdbk5ljTg/s50-c-k-no/photo.jpg",
            "userId": "109559495152425718906"
          }
        }
      },
      "source": [
        "print('###Example Train Data:\\n\\n ',newsgroups_train.data[0])\n",
        "print('###Example Train Target:\\n ',newsgroups_train.target[0])"
      ],
      "cell_type": "code",
      "execution_count": 7,
      "outputs": [
        {
          "output_type": "stream",
          "text": [
            "###Example Train Data:\n",
            "\n",
            "  From: jk87377@lehtori.cc.tut.fi (Kouhia Juhana)\n",
            "Subject: Re: More gray levels out of the screen\n",
            "Organization: Tampere University of Technology\n",
            "Lines: 21\n",
            "Distribution: inet\n",
            "NNTP-Posting-Host: cc.tut.fi\n",
            "\n",
            "In article <1993Apr6.011605.909@cis.uab.edu> sloan@cis.uab.edu\n",
            "(Kenneth Sloan) writes:\n",
            ">\n",
            ">Why didn't you create 8 grey-level images, and display them for\n",
            ">1,2,4,8,16,32,64,128... time slices?\n",
            "\n",
            "By '8 grey level images' you mean 8 items of 1bit images?\n",
            "It does work(!), but it doesn't work if you have more than 1bit\n",
            "in your screen and if the screen intensity is non-linear.\n",
            "\n",
            "With 2 bit per pixel; there could be 1*c_1 + 4*c_2 timing,\n",
            "this gives 16 levels, but they are linear if screen intensity is\n",
            "linear.\n",
            "With 1*c_1 + 2*c_2 it works, but we have to find the best\n",
            "compinations -- there's 10 levels, but 16 choises; best 10 must be\n",
            "chosen. Different compinations for the same level, varies a bit, but\n",
            "the levels keeps their order.\n",
            "\n",
            "Readers should verify what I wrote... :-)\n",
            "\n",
            "Juhana Kouhia\n",
            "\n",
            "###Example Train Target:\n",
            "  0\n"
          ],
          "name": "stdout"
        }
      ]
    },
    {
      "metadata": {
        "id": "HpvgjmtbYmeP",
        "colab_type": "code",
        "colab": {
          "autoexec": {
            "startup": false,
            "wait_interval": 0
          },
          "output_extras": [
            {
              "item_id": 1
            }
          ],
          "base_uri": "https://localhost:8080/",
          "height": 34
        },
        "outputId": "1ad16361-14d4-459b-9425-cb23f17f8393",
        "executionInfo": {
          "status": "ok",
          "timestamp": 1511838713181,
          "user_tz": -360,
          "elapsed": 947,
          "user": {
            "displayName": "Tasnim Mohiuddin",
            "photoUrl": "//lh5.googleusercontent.com/-FoI6H1AJ-04/AAAAAAAAAAI/AAAAAAAAABw/Pugdbk5ljTg/s50-c-k-no/photo.jpg",
            "userId": "109559495152425718906"
          }
        }
      },
      "source": [
        "set(newsgroups_train.target)"
      ],
      "cell_type": "code",
      "execution_count": 8,
      "outputs": [
        {
          "output_type": "execute_result",
          "data": {
            "text/plain": [
              "{0, 1, 2}"
            ]
          },
          "metadata": {
            "tags": []
          },
          "execution_count": 8
        }
      ]
    },
    {
      "metadata": {
        "id": "ONKJek3iP9hw",
        "colab_type": "code",
        "colab": {
          "autoexec": {
            "startup": false,
            "wait_interval": 0
          }
        }
      },
      "source": [
        "vocab = Counter()\n",
        "\n",
        "for text in newsgroups_train.data:\n",
        "    for word in text.lower().split():\n",
        "        vocab[word]+=1\n",
        "        \n",
        "for text in newsgroups_test.data:\n",
        "    for word in text.lower().split():\n",
        "        vocab[word]+=1"
      ],
      "cell_type": "code",
      "execution_count": 0,
      "outputs": []
    },
    {
      "metadata": {
        "id": "xwtC9ksaRP34",
        "colab_type": "code",
        "colab": {
          "autoexec": {
            "startup": false,
            "wait_interval": 0
          },
          "output_extras": [
            {
              "item_id": 1
            }
          ],
          "base_uri": "https://localhost:8080/",
          "height": 34
        },
        "outputId": "8eca4a61-1a6e-4a9d-f81e-4c82f8f6bd65",
        "executionInfo": {
          "status": "ok",
          "timestamp": 1511838730852,
          "user_tz": -360,
          "elapsed": 1034,
          "user": {
            "displayName": "Tasnim Mohiuddin",
            "photoUrl": "//lh5.googleusercontent.com/-FoI6H1AJ-04/AAAAAAAAAAI/AAAAAAAAABw/Pugdbk5ljTg/s50-c-k-no/photo.jpg",
            "userId": "109559495152425718906"
          }
        }
      },
      "source": [
        "len(vocab)"
      ],
      "cell_type": "code",
      "execution_count": 10,
      "outputs": [
        {
          "output_type": "execute_result",
          "data": {
            "text/plain": [
              "79162"
            ]
          },
          "metadata": {
            "tags": []
          },
          "execution_count": 10
        }
      ]
    },
    {
      "metadata": {
        "id": "u-RrK8qPR4pw",
        "colab_type": "code",
        "colab": {
          "autoexec": {
            "startup": false,
            "wait_interval": 0
          },
          "output_extras": [
            {
              "item_id": 1
            }
          ],
          "base_uri": "https://localhost:8080/",
          "height": 34
        },
        "outputId": "6ffda172-265d-4531-cddd-161c995de567",
        "executionInfo": {
          "status": "ok",
          "timestamp": 1511838733324,
          "user_tz": -360,
          "elapsed": 1243,
          "user": {
            "displayName": "Tasnim Mohiuddin",
            "photoUrl": "//lh5.googleusercontent.com/-FoI6H1AJ-04/AAAAAAAAAAI/AAAAAAAAABw/Pugdbk5ljTg/s50-c-k-no/photo.jpg",
            "userId": "109559495152425718906"
          }
        }
      },
      "source": [
        "vocab['the']"
      ],
      "cell_type": "code",
      "execution_count": 11,
      "outputs": [
        {
          "output_type": "execute_result",
          "data": {
            "text/plain": [
              "31639"
            ]
          },
          "metadata": {
            "tags": []
          },
          "execution_count": 11
        }
      ]
    },
    {
      "metadata": {
        "id": "mn9DWpECT5IQ",
        "colab_type": "code",
        "colab": {
          "autoexec": {
            "startup": false,
            "wait_interval": 0
          }
        }
      },
      "source": [
        "#Assign unique id for each word\n",
        "\n",
        "word2int = {}\n",
        "int2word = {}\n",
        "\n",
        "for i,word in enumerate(vocab):\n",
        "        word2int[word] = i\n",
        "    \n",
        "int2word = dict(zip(word2int.values(), word2int.keys()))"
      ],
      "cell_type": "code",
      "execution_count": 0,
      "outputs": []
    },
    {
      "metadata": {
        "id": "1NVv971FUau4",
        "colab_type": "code",
        "colab": {
          "autoexec": {
            "startup": false,
            "wait_interval": 0
          },
          "output_extras": [
            {
              "item_id": 1
            }
          ],
          "base_uri": "https://localhost:8080/",
          "height": 34
        },
        "outputId": "bb0f50af-93a4-4134-8a2d-e0cfc151583d",
        "executionInfo": {
          "status": "ok",
          "timestamp": 1511838749789,
          "user_tz": -360,
          "elapsed": 1448,
          "user": {
            "displayName": "Tasnim Mohiuddin",
            "photoUrl": "//lh5.googleusercontent.com/-FoI6H1AJ-04/AAAAAAAAAAI/AAAAAAAAABw/Pugdbk5ljTg/s50-c-k-no/photo.jpg",
            "userId": "109559495152425718906"
          }
        }
      },
      "source": [
        "word2int['the']"
      ],
      "cell_type": "code",
      "execution_count": 13,
      "outputs": [
        {
          "output_type": "execute_result",
          "data": {
            "text/plain": [
              "25512"
            ]
          },
          "metadata": {
            "tags": []
          },
          "execution_count": 13
        }
      ]
    },
    {
      "metadata": {
        "id": "pov3mJImVUMW",
        "colab_type": "code",
        "colab": {
          "autoexec": {
            "startup": false,
            "wait_interval": 0
          },
          "output_extras": [
            {
              "item_id": 1
            }
          ],
          "base_uri": "https://localhost:8080/",
          "height": 34
        },
        "outputId": "5e253d4d-ecd8-40c2-ea35-b386ced408aa",
        "executionInfo": {
          "status": "ok",
          "timestamp": 1511838751221,
          "user_tz": -360,
          "elapsed": 1072,
          "user": {
            "displayName": "Tasnim Mohiuddin",
            "photoUrl": "//lh5.googleusercontent.com/-FoI6H1AJ-04/AAAAAAAAAAI/AAAAAAAAABw/Pugdbk5ljTg/s50-c-k-no/photo.jpg",
            "userId": "109559495152425718906"
          }
        }
      },
      "source": [
        "int2word[25512]"
      ],
      "cell_type": "code",
      "execution_count": 14,
      "outputs": [
        {
          "output_type": "execute_result",
          "data": {
            "text/plain": [
              "u'the'"
            ]
          },
          "metadata": {
            "tags": []
          },
          "execution_count": 14
        }
      ]
    },
    {
      "metadata": {
        "id": "DwEwavKenMCs",
        "colab_type": "code",
        "colab": {
          "autoexec": {
            "startup": false,
            "wait_interval": 0
          }
        }
      },
      "source": [
        "total_words = len(vocab)"
      ],
      "cell_type": "code",
      "execution_count": 0,
      "outputs": []
    },
    {
      "metadata": {
        "id": "nicMSbwMVXXI",
        "colab_type": "code",
        "colab": {
          "autoexec": {
            "startup": false,
            "wait_interval": 0
          }
        }
      },
      "source": [
        "def get_batch(train_data, i, batch_size):\n",
        "    \"\"\"\n",
        "    Generate batch data from the training data to be fed during training.\n",
        "    \n",
        "    Arguments:\n",
        "    df -- training data containing inputs and targets\n",
        "    i -- batch number\n",
        "    batch_size -- size of each batch\n",
        "    \n",
        "    Returns:\n",
        "    batch_x -- A Matrix where each row denotes a training document\n",
        "    batch_y -- corresponding output classes one-hot encoded\n",
        "    \n",
        "    \"\"\"\n",
        "  \n",
        "    batch_x = []\n",
        "    batch_y = []\n",
        "    \n",
        "    documents = train_data.data[i*batch_size:i*batch_size+batch_size]\n",
        "    categories = train_data.target[i*batch_size:i*batch_size+batch_size]\n",
        "    \n",
        "    for document in documents:\n",
        "        document_row = np.zeros(total_words,dtype=float)\n",
        "        for word in document.lower().split():\n",
        "            document_row[word2int[word]] += 1\n",
        "            \n",
        "        batch_x.append(document_row)   #A Matrix- Row:each document in the batch, Col:length=vocab size, 1 in those which words are present\n",
        "    \n",
        "    for category in categories:\n",
        "        y = np.zeros((3),dtype=float)\n",
        "        if category == 0:\n",
        "            y[0] = 1.\n",
        "        elif category == 1:\n",
        "            y[1] = 1.\n",
        "        else:\n",
        "            y[2] = 1.\n",
        "        batch_y.append(y)      #one hot encoded target class for each document in the batch\n",
        "            \n",
        "     \n",
        "    return np.array(batch_x),np.array(batch_y)"
      ],
      "cell_type": "code",
      "execution_count": 0,
      "outputs": []
    },
    {
      "metadata": {
        "id": "tGhZ-dKVdD26",
        "colab_type": "code",
        "colab": {
          "autoexec": {
            "startup": false,
            "wait_interval": 0
          }
        }
      },
      "source": [
        "def initialize_parameters(layer_dims):\n",
        "    \"\"\"\n",
        "    Initializes the parameters (weights and biases) of the multi layer perceptron. \n",
        "    \n",
        "    Arguments:\n",
        "    layer_dims -- python array (list) containing the dimensions of each layer in our network\n",
        "                  [input_layer, hidden_layer1,  hidden_layer2, ... ..., output_layer]\n",
        "    \n",
        "    Returns:\n",
        "    parameters -- python dictionary containing network parameters \"W1\", \"b1\", ..., \"WL\", \"bL\":\n",
        "                    Wl -- weight matrix of shape (layer_dims[l-1], layer_dims[l])\n",
        "                    bl -- bias vector of shape (layer_dims[l])\n",
        "    \"\"\"\n",
        "    \n",
        "    parameters = {}\n",
        "    L = len(layer_dims)            # number of layers in the network\n",
        "    \n",
        "    for l in range(1, L):\n",
        "        dim1 = layer_dims[l-1]\n",
        "        dim2 = layer_dims[l]\n",
        "        parameters['W' + str(l)] = tf.Variable(tf.random_normal([dim1, dim2]))   #randomly initialized weight\n",
        "        parameters['b' + str(l)] = tf.Variable(tf.zeros([dim2]))   #bias initialized with Zeros\n",
        "       \n",
        "                \n",
        "    return parameters"
      ],
      "cell_type": "code",
      "execution_count": 0,
      "outputs": []
    },
    {
      "metadata": {
        "id": "qUEqgu_uvF6B",
        "colab_type": "code",
        "colab": {
          "autoexec": {
            "startup": false,
            "wait_interval": 0
          }
        }
      },
      "source": [
        "def multi_layer_perceptron(X, parameters):\n",
        "    \"\"\"\n",
        "    Implement forward propagation for the multi layer perceptron.\n",
        "    \n",
        "    Arguments:\n",
        "    X -- input layer data [batch data]\n",
        "    parameters -- parameters of the neural network i.e. W1, b1, W2, b2, ... , WL, bL\n",
        "    \n",
        "    Returns:\n",
        "    AL --  output layer neurons value without using non linear activation function in output layer.\n",
        "    \n",
        "    \"\"\"\n",
        "\n",
        "    A = X\n",
        "    L = len(parameters)//2  # number of layers in the neural network\n",
        "    \n",
        "    # For the first (L-1) layer implement:\n",
        "    #              Z = A_prev*Wl + bl \n",
        "    #              A = relu(Z)\n",
        "    \n",
        "    for l in range(1, L ):\n",
        "        A_prev = A \n",
        "        Z = tf.add(tf.matmul(A_prev, parameters['W' + str(l)]), parameters['b' + str(l)])\n",
        "        A = tf.nn.relu(Z)\n",
        "           \n",
        "    \n",
        "    # For the output layer implement: AL = A*WL + bL\n",
        "    \n",
        "    AL = tf.add(tf.matmul(A, parameters['W' + str(L)]), parameters['b' + str(L)])\n",
        "    \n",
        "           \n",
        "    return AL"
      ],
      "cell_type": "code",
      "execution_count": 0,
      "outputs": []
    },
    {
      "metadata": {
        "id": "CCCeQMPRLZQ4",
        "colab_type": "code",
        "colab": {
          "autoexec": {
            "startup": false,
            "wait_interval": 0
          }
        }
      },
      "source": [
        "n_input = total_words  #input size = Vocabulary size\n",
        "n_classes = 3          #output/target size "
      ],
      "cell_type": "code",
      "execution_count": 0,
      "outputs": []
    },
    {
      "metadata": {
        "id": "5zqSYVWK0K8C",
        "colab_type": "code",
        "colab": {
          "autoexec": {
            "startup": false,
            "wait_interval": 0
          }
        }
      },
      "source": [
        "# Hyper Parameters\n",
        "learning_rate = 0.01\n",
        "training_epochs = 10\n",
        "batch_size = 150\n",
        "display_step = 1"
      ],
      "cell_type": "code",
      "execution_count": 0,
      "outputs": []
    },
    {
      "metadata": {
        "id": "a0FsFb7k0Ty7",
        "colab_type": "code",
        "colab": {
          "autoexec": {
            "startup": false,
            "wait_interval": 0
          }
        }
      },
      "source": [
        "input_tensor = tf.placeholder(tf.float32,[None, n_input],name=\"input\")\n",
        "output_tensor = tf.placeholder(tf.float32,[None, n_classes],name=\"output\") "
      ],
      "cell_type": "code",
      "execution_count": 0,
      "outputs": []
    },
    {
      "metadata": {
        "id": "GrrlNPjMLqAh",
        "colab_type": "code",
        "colab": {
          "autoexec": {
            "startup": false,
            "wait_interval": 0
          }
        }
      },
      "source": [
        "# Network Parameters\n",
        "\n",
        "parameters = initialize_parameters([n_input, 100, 100, 3]) #3 layer Neural Network"
      ],
      "cell_type": "code",
      "execution_count": 0,
      "outputs": []
    },
    {
      "metadata": {
        "id": "ubeZsRib7xWz",
        "colab_type": "code",
        "colab": {
          "autoexec": {
            "startup": false,
            "wait_interval": 0
          }
        }
      },
      "source": [
        "prediction = multi_layer_perceptron(input_tensor, parameters)"
      ],
      "cell_type": "code",
      "execution_count": 0,
      "outputs": []
    },
    {
      "metadata": {
        "id": "V6e4_k5CxaDw",
        "colab_type": "code",
        "colab": {
          "autoexec": {
            "startup": false,
            "wait_interval": 0
          }
        }
      },
      "source": [
        "# loss and optimizer\n",
        "\n",
        "loss = tf.reduce_mean(tf.nn.softmax_cross_entropy_with_logits(logits=prediction, labels=output_tensor))\n",
        "\n",
        "optimizer = tf.train.AdamOptimizer(learning_rate=learning_rate).minimize(loss)"
      ],
      "cell_type": "code",
      "execution_count": 0,
      "outputs": []
    },
    {
      "metadata": {
        "id": "KcYUmSyEx-TI",
        "colab_type": "code",
        "colab": {
          "autoexec": {
            "startup": false,
            "wait_interval": 0
          }
        }
      },
      "source": [
        "# Initializing the variables\n",
        "init = tf.global_variables_initializer()"
      ],
      "cell_type": "code",
      "execution_count": 0,
      "outputs": []
    },
    {
      "metadata": {
        "id": "0tPFUmRVBu04",
        "colab_type": "code",
        "colab": {
          "autoexec": {
            "startup": false,
            "wait_interval": 0
          },
          "output_extras": [
            {
              "item_id": 10
            }
          ],
          "base_uri": "https://localhost:8080/",
          "height": 208
        },
        "outputId": "2a972eee-c042-47f1-a00e-ebb2f0a8493c",
        "executionInfo": {
          "status": "ok",
          "timestamp": 1511839862311,
          "user_tz": -360,
          "elapsed": 68797,
          "user": {
            "displayName": "Tasnim Mohiuddin",
            "photoUrl": "//lh5.googleusercontent.com/-FoI6H1AJ-04/AAAAAAAAAAI/AAAAAAAAABw/Pugdbk5ljTg/s50-c-k-no/photo.jpg",
            "userId": "109559495152425718906"
          }
        }
      },
      "source": [
        "# Launch the graph\n",
        "\n",
        "with tf.Session() as sess:\n",
        "    sess.run(init)\n",
        "\n",
        "    # Training cycle\n",
        "    for epoch in range(training_epochs):\n",
        "        avg_cost = 0.\n",
        "        \n",
        "        total_batch = int(len(newsgroups_train.data)/batch_size)\n",
        "        \n",
        "        # Loop over all batches\n",
        "        for i in range(total_batch):\n",
        "            batch_x,batch_y = get_batch(newsgroups_train,i,batch_size)\n",
        "            \n",
        "            # Run optimization op (backprop) and cost op (to get loss value)\n",
        "            c,_ = sess.run([loss,optimizer], feed_dict={input_tensor: batch_x,output_tensor:batch_y})\n",
        "            \n",
        "            # Compute average loss\n",
        "            avg_cost += c / total_batch\n",
        "        \n",
        "        # Display logs per epoch step\n",
        "        print(\"Epoch:\", '%04d' % (epoch+1), \"loss=\", \"{:.9f}\".format(avg_cost))\n",
        "    print(\"Optimization Finished!\")"
      ],
      "cell_type": "code",
      "execution_count": 31,
      "outputs": [
        {
          "output_type": "stream",
          "text": [
            "Epoch: 0001 loss= 514.761679909\n",
            "Epoch: 0002 loss= 74.564135812\n",
            "Epoch: 0003 loss= 16.739976254\n",
            "Epoch: 0004 loss= 2.315056624\n",
            "Epoch: 0005 loss= 0.429822872\n",
            "Epoch: 0006 loss= 0.225238739\n",
            "Epoch: 0007 loss= 0.090959659\n",
            "Epoch: 0008 loss= 0.000000354\n",
            "Epoch: 0009 loss= 0.000000014\n",
            "Epoch: 0010 loss= 0.000000018\n",
            "Optimization Finished!\n"
          ],
          "name": "stdout"
        }
      ]
    },
    {
      "metadata": {
        "id": "5dkcS70dB1uA",
        "colab_type": "code",
        "colab": {
          "autoexec": {
            "startup": false,
            "wait_interval": 0
          }
        }
      },
      "source": [
        ""
      ],
      "cell_type": "code",
      "execution_count": 0,
      "outputs": []
    }
  ]
}